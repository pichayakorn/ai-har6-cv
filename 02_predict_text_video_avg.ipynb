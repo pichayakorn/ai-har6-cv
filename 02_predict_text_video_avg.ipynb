{
 "cells": [
  {
   "cell_type": "code",
   "execution_count": 1,
   "metadata": {},
   "outputs": [],
   "source": [
    "import cv2\n",
    "import numpy as np\n",
    "from tensorflow import keras"
   ]
  },
  {
   "cell_type": "code",
   "execution_count": 2,
   "metadata": {},
   "outputs": [],
   "source": [
    "# Define class labels\n",
    "class_labels = {'cycling': 0, 'drinking': 1, 'eating': 2, 'fighting': 3, 'running': 4, 'sleeping': 5}\n",
    "class_labels = {v:k for k,v in class_labels.items()} # flip the key-value \n",
    "\n",
    "# Define dependencies relative path \n",
    "path_model = r'model'\n",
    "path_test_video = r'test-video'\n",
    "path_predicted_video = r'avg-predicted-video'\n",
    "\n",
    "# Model name\n",
    "modelname = '230206_har6.h5'\n",
    "\n",
    "# Test video name\n",
    "filename = 'sleeping_2'"
   ]
  },
  {
   "cell_type": "code",
   "execution_count": 3,
   "metadata": {},
   "outputs": [],
   "source": [
    "# Load pre-trained model\n",
    "model = keras.models.load_model(path_model + '/' + modelname)"
   ]
  },
  {
   "cell_type": "code",
   "execution_count": 4,
   "metadata": {},
   "outputs": [],
   "source": [
    "# Load a video\n",
    "cap = cv2.VideoCapture(path_test_video + '/' + filename + '.mp4')\n",
    "\n",
    "# Get the resolution of the input video\n",
    "frame_width = int(cap.get(3))\n",
    "frame_height = int(cap.get(4))\n",
    "\n",
    "# Set the output resolution to half the input resolution\n",
    "output_width = int(frame_width / 2)\n",
    "output_height = int(frame_height / 2)\n",
    "\n",
    "# Write the output video\n",
    "fourcc = cv2.VideoWriter_fourcc(*\"mp4v\")\n",
    "out = cv2.VideoWriter(path_predicted_video + '/' + 'avg-predicted-' + filename + '.mp4', fourcc, 20.0, (output_width, output_height))\n",
    "\n",
    "# Initialize variables for averaging\n",
    "num_of_frame = 18\n",
    "count = 0\n",
    "prediction_sum = np.zeros((1, 6)) # 6 classes\n",
    "is_first_frame = True"
   ]
  },
  {
   "cell_type": "code",
   "execution_count": 5,
   "metadata": {},
   "outputs": [],
   "source": [
    "while(cap.isOpened()):\n",
    "    ret, frame = cap.read()\n",
    "    if ret == True:\n",
    "        # Resize frame to 224x224\n",
    "        frame224 = cv2.resize(frame, (224, 224))\n",
    "\n",
    "        # Convert to 3-channel image\n",
    "        frame224 = cv2.cvtColor(frame224, cv2.COLOR_BGR2RGB)\n",
    "\n",
    "        # Convert to numpy array and expand dimension for model input\n",
    "        frame224 = np.expand_dims(frame224, axis=0)\n",
    "        \n",
    "        # Run image through model\n",
    "        prediction = model.predict(frame224)\n",
    "        prediction_sum += prediction\n",
    "        count += 1\n",
    "        \n",
    "        if is_first_frame:\n",
    "            prediction_class = np.argmax(prediction, axis=1)\n",
    "            prediction_percent = np.max(prediction)*100\n",
    "            is_first_frame = False\n",
    "        \n",
    "        # If we've averaged over X frames, get the average prediction\n",
    "        if count == num_of_frame:\n",
    "            prediction_avg = prediction_sum / num_of_frame\n",
    "            prediction_class = np.argmax(prediction_avg, axis=1)\n",
    "            prediction_percent = np.max(prediction_avg)*100\n",
    "            \n",
    "            # Reset the count and prediction sum\n",
    "            count = 0\n",
    "            prediction_sum = np.zeros((1, 6))\n",
    "        \n",
    "        # Do something with prediction\n",
    "        text = f'{class_labels[prediction_class[0]]}: {prediction_percent:.2f}%'\n",
    "        # For debugger\n",
    "        # print(text)\n",
    "        \n",
    "        # Add a black background to the text\n",
    "        text_size = cv2.getTextSize(text, cv2.FONT_HERSHEY_SIMPLEX, 1, 2)\n",
    "        text_width = text_size[0][0]\n",
    "        text_height = text_size[0][1]\n",
    "        cv2.rectangle(frame, (10 - 2, 30 - text_height - 2), (10 + text_width + 2, 30 + 2), (0,0,0), -1)\n",
    "        \n",
    "        # Add the text on top of the black background\n",
    "        cv2.putText(frame, text, (10,30), cv2.FONT_HERSHEY_SIMPLEX, 1, (0,255,0), 2, cv2.LINE_AA)\n",
    "        \n",
    "        # Resize the frame to half the resolution\n",
    "        frame = cv2.resize(frame, (output_width, output_height), interpolation = cv2.INTER_CUBIC)\n",
    "\n",
    "        # Write the resized frame to the output video\n",
    "        out.write(frame)\n",
    "\n",
    "        # Check if the user pressed the 'q' key to exit\n",
    "        if cv2.waitKey(1) & 0xFF == ord('q'):\n",
    "            break\n",
    "    else:\n",
    "        break\n",
    "\n",
    "# Release the video capture and writer objects\n",
    "cap.release()\n",
    "out.release()\n",
    "\n",
    "# Close all windows\n",
    "cv2.destroyAllWindows()"
   ]
  }
 ],
 "metadata": {
  "kernelspec": {
   "display_name": "Python 3",
   "language": "python",
   "name": "python3"
  },
  "language_info": {
   "codemirror_mode": {
    "name": "ipython",
    "version": 3
   },
   "file_extension": ".py",
   "mimetype": "text/x-python",
   "name": "python",
   "nbconvert_exporter": "python",
   "pygments_lexer": "ipython3",
   "version": "3.6.9"
  }
 },
 "nbformat": 4,
 "nbformat_minor": 4
}
