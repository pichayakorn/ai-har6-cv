{
 "cells": [
  {
   "attachments": {},
   "cell_type": "markdown",
   "metadata": {},
   "source": [
    "# Modeling of Human Activity Regcognition (HAR) through Computer Vision with AI"
   ]
  },
  {
   "attachments": {},
   "cell_type": "markdown",
   "metadata": {},
   "source": [
    "In this notebook, we will train a model to recognize 6 different classes of human activities using Artificial Intelligence with Machine Learning, Deep Learning, Computer Vision, and related theories. On our expectation, we need to get the model to a validation accuracy of `90%` in order to pass the assessment"
   ]
  },
  {
   "attachments": {},
   "cell_type": "markdown",
   "metadata": {},
   "source": [
    "## Objectives"
   ]
  },
  {
   "attachments": {},
   "cell_type": "markdown",
   "metadata": {},
   "source": [
    "* Prepare image data for training\n",
    "* Create and compile a model for image classification\n",
    "* Train an image classification model and observe the results"
   ]
  },
  {
   "attachments": {},
   "cell_type": "markdown",
   "metadata": {},
   "source": [
    "## The Dataset"
   ]
  },
  {
   "attachments": {},
   "cell_type": "markdown",
   "metadata": {},
   "source": [
    "The dataset comes from [Kaggle](https://www.kaggle.com/datasets/meetnagadia/human-action-recognition-har-dataset), The dataset structure is in the `dataset` folder. There are 6 categories of human activities: cycling, drinking, eating, fighting, running, and sleeping."
   ]
  },
  {
   "attachments": {},
   "cell_type": "markdown",
   "metadata": {},
   "source": [
    "## Load ImageNet Base Model"
   ]
  },
  {
   "attachments": {},
   "cell_type": "markdown",
   "metadata": {},
   "source": [
    "We decide to start with a model pre-trained on ImageNet. Load the model with the correct weights, set an input shape, and choose to remove the last layers of the model."
   ]
  },
  {
   "cell_type": "code",
   "execution_count": 1,
   "metadata": {},
   "outputs": [],
   "source": [
    "from tensorflow import keras\n",
    "\n",
    "base_model = keras.applications.VGG16(\n",
    "    weights='imagenet',\n",
    "    input_shape=(224, 224, 3),\n",
    "    include_top=False)"
   ]
  },
  {
   "attachments": {},
   "cell_type": "markdown",
   "metadata": {},
   "source": [
    "## Freeze Base Model"
   ]
  },
  {
   "attachments": {},
   "cell_type": "markdown",
   "metadata": {},
   "source": [
    "Next, we suggest freezing the base model. This is done so that all the learning from the ImageNet dataset does not get destroyed in the initial training."
   ]
  },
  {
   "cell_type": "code",
   "execution_count": 2,
   "metadata": {},
   "outputs": [],
   "source": [
    "# Freeze base model\n",
    "base_model.trainable = False"
   ]
  },
  {
   "attachments": {},
   "cell_type": "markdown",
   "metadata": {},
   "source": [
    "## Add Layers to Model"
   ]
  },
  {
   "attachments": {},
   "cell_type": "markdown",
   "metadata": {},
   "source": [
    "Now it's time to add layers to the pretrained model."
   ]
  },
  {
   "cell_type": "code",
   "execution_count": 3,
   "metadata": {},
   "outputs": [],
   "source": [
    "# Create inputs with correct shape\n",
    "inputs = keras.Input(shape=(224, 224, 3))\n",
    "\n",
    "x = base_model(inputs, training=False)\n",
    "\n",
    "# Add pooling layer or flatten layer\n",
    "x = keras.layers.GlobalAveragePooling2D()(x)\n",
    "\n",
    "# Add final 6 denses layer\n",
    "outputs = keras.layers.Dense(6, activation = 'softmax')(x)\n",
    "\n",
    "# Combine inputs and outputs to create model\n",
    "model = keras.Model(inputs, outputs)"
   ]
  },
  {
   "attachments": {},
   "cell_type": "markdown",
   "metadata": {},
   "source": [
    "### Summarizing the Model"
   ]
  },
  {
   "attachments": {},
   "cell_type": "markdown",
   "metadata": {},
   "source": [
    "Run the cell below to summarize the model:"
   ]
  },
  {
   "cell_type": "code",
   "execution_count": 4,
   "metadata": {},
   "outputs": [
    {
     "name": "stdout",
     "output_type": "stream",
     "text": [
      "Model: \"model\"\n",
      "_________________________________________________________________\n",
      "Layer (type)                 Output Shape              Param #   \n",
      "=================================================================\n",
      "input_2 (InputLayer)         [(None, 224, 224, 3)]     0         \n",
      "_________________________________________________________________\n",
      "vgg16 (Model)                (None, 7, 7, 512)         14714688  \n",
      "_________________________________________________________________\n",
      "global_average_pooling2d (Gl (None, 512)               0         \n",
      "_________________________________________________________________\n",
      "dense (Dense)                (None, 6)                 3078      \n",
      "=================================================================\n",
      "Total params: 14,717,766\n",
      "Trainable params: 3,078\n",
      "Non-trainable params: 14,714,688\n",
      "_________________________________________________________________\n"
     ]
    }
   ],
   "source": [
    "model.summary()"
   ]
  },
  {
   "attachments": {},
   "cell_type": "markdown",
   "metadata": {},
   "source": [
    "## Compile Model"
   ]
  },
  {
   "attachments": {},
   "cell_type": "markdown",
   "metadata": {},
   "source": [
    "Next, we will compile our model using loss option calls [categorical crossentropy](https://www.tensorflow.org/api_docs/python/tf/keras/losses/CategoricalCrossentropy) to reflect the fact that we want to fit into one of many categories, and measuring the accuracy of our model in metrics option:"
   ]
  },
  {
   "cell_type": "code",
   "execution_count": 5,
   "metadata": {},
   "outputs": [],
   "source": [
    "model.compile(optimizer='adam', loss='categorical_crossentropy',metrics=['accuracy'])"
   ]
  },
  {
   "attachments": {},
   "cell_type": "markdown",
   "metadata": {},
   "source": [
    "## Augment the Data"
   ]
  },
  {
   "attachments": {},
   "cell_type": "markdown",
   "metadata": {},
   "source": [
    "Augment the data to improve the dataset."
   ]
  },
  {
   "cell_type": "code",
   "execution_count": 6,
   "metadata": {},
   "outputs": [],
   "source": [
    "from tensorflow.keras.preprocessing.image import ImageDataGenerator\n",
    "\n",
    "datagen_train = ImageDataGenerator(\n",
    "    samplewise_center=True,  # set each sample mean to 0\n",
    "    zoom_range=0.1,  # Randomly zoom image\n",
    "    width_shift_range=0.1,  # randomly shift images horizontally (fraction of total width)\n",
    "    height_shift_range=0.1,  # randomly shift images vertically (fraction of total height)\n",
    "    horizontal_flip=True,  # randomly flip images horizontally\n",
    ")\n",
    "\n",
    "# No need to augment validation data\n",
    "datagen_valid = ImageDataGenerator(samplewise_center=True)"
   ]
  },
  {
   "attachments": {},
   "cell_type": "markdown",
   "metadata": {},
   "source": [
    "## Load Dataset"
   ]
  },
  {
   "attachments": {},
   "cell_type": "markdown",
   "metadata": {},
   "source": [
    "Now it's time to load the train and validation datasets. Pick the right folders, as well as the right `target_size` of the images (it needs to match the height and width input of the model you've created)."
   ]
  },
  {
   "cell_type": "code",
   "execution_count": 7,
   "metadata": {},
   "outputs": [
    {
     "name": "stdout",
     "output_type": "stream",
     "text": [
      "Found 4080 images belonging to 6 classes.\n",
      "Found 960 images belonging to 6 classes.\n"
     ]
    }
   ],
   "source": [
    "# load and iterate training dataset\n",
    "train_it = datagen_train.flow_from_directory(\n",
    "    \"dataset/train/\",\n",
    "    target_size=(224, 224),\n",
    "    color_mode=\"rgb\",\n",
    "    class_mode=\"categorical\",\n",
    ")\n",
    "# load and iterate validation dataset\n",
    "valid_it = datagen_valid.flow_from_directory(\n",
    "    \"dataset/valid/\",\n",
    "    target_size=(224, 224),\n",
    "    color_mode=\"rgb\",\n",
    "    class_mode=\"categorical\",\n",
    ")"
   ]
  },
  {
   "attachments": {},
   "cell_type": "markdown",
   "metadata": {},
   "source": [
    "### Summarizing the Training and Validation Data"
   ]
  },
  {
   "cell_type": "code",
   "execution_count": 8,
   "metadata": {},
   "outputs": [
    {
     "name": "stdout",
     "output_type": "stream",
     "text": [
      "Number of data: 128\n",
      "Class indices:  {'cycling': 0, 'drinking': 1, 'eating': 2, 'fighting': 3, 'running': 4, 'sleeping': 5}\n"
     ]
    }
   ],
   "source": [
    "print(\"Number of data:\", len(train_it))\n",
    "print(\"Class indices: \", train_it.class_indices)"
   ]
  },
  {
   "attachments": {},
   "cell_type": "markdown",
   "metadata": {},
   "source": [
    "## Train the Model"
   ]
  },
  {
   "attachments": {},
   "cell_type": "markdown",
   "metadata": {},
   "source": [
    "Time to train the model! Pass the `train` and `valid` iterators into the `fit` function, as well as setting the desired number of epochs."
   ]
  },
  {
   "cell_type": "code",
   "execution_count": 9,
   "metadata": {},
   "outputs": [],
   "source": [
    "EPOCHS = 30"
   ]
  },
  {
   "cell_type": "code",
   "execution_count": 10,
   "metadata": {},
   "outputs": [
    {
     "name": "stdout",
     "output_type": "stream",
     "text": [
      "Epoch 1/30\n",
      "128/127 [==============================] - 52s 403ms/step - loss: 1.7699 - accuracy: 0.5912 - val_loss: 1.0075 - val_accuracy: 0.7740\n",
      "Epoch 2/30\n",
      "128/127 [==============================] - 45s 355ms/step - loss: 0.8742 - accuracy: 0.7583 - val_loss: 0.7424 - val_accuracy: 0.8073\n",
      "Epoch 3/30\n",
      "128/127 [==============================] - 46s 356ms/step - loss: 0.6120 - accuracy: 0.8174 - val_loss: 0.6068 - val_accuracy: 0.8292\n",
      "Epoch 4/30\n",
      "128/127 [==============================] - 46s 359ms/step - loss: 0.5315 - accuracy: 0.8348 - val_loss: 0.6524 - val_accuracy: 0.8271\n",
      "Epoch 5/30\n",
      "128/127 [==============================] - 45s 354ms/step - loss: 0.4640 - accuracy: 0.8532 - val_loss: 0.6446 - val_accuracy: 0.8302\n",
      "Epoch 6/30\n",
      "128/127 [==============================] - 45s 353ms/step - loss: 0.3961 - accuracy: 0.8711 - val_loss: 0.5787 - val_accuracy: 0.8458\n",
      "Epoch 7/30\n",
      "128/127 [==============================] - 46s 356ms/step - loss: 0.3655 - accuracy: 0.8775 - val_loss: 0.5418 - val_accuracy: 0.8458\n",
      "Epoch 8/30\n",
      "128/127 [==============================] - 45s 355ms/step - loss: 0.3441 - accuracy: 0.8875 - val_loss: 0.5229 - val_accuracy: 0.8490\n",
      "Epoch 9/30\n",
      "128/127 [==============================] - 45s 352ms/step - loss: 0.3095 - accuracy: 0.8949 - val_loss: 0.5251 - val_accuracy: 0.8510\n",
      "Epoch 10/30\n",
      "128/127 [==============================] - 45s 354ms/step - loss: 0.3078 - accuracy: 0.8917 - val_loss: 0.6024 - val_accuracy: 0.8260\n",
      "Epoch 11/30\n",
      "128/127 [==============================] - 46s 356ms/step - loss: 0.2916 - accuracy: 0.8958 - val_loss: 0.5284 - val_accuracy: 0.8510\n",
      "Epoch 12/30\n",
      "128/127 [==============================] - 45s 354ms/step - loss: 0.2851 - accuracy: 0.9002 - val_loss: 0.5591 - val_accuracy: 0.8479\n",
      "Epoch 13/30\n",
      "128/127 [==============================] - 45s 352ms/step - loss: 0.2613 - accuracy: 0.9042 - val_loss: 0.5151 - val_accuracy: 0.8594\n",
      "Epoch 14/30\n",
      "128/127 [==============================] - 45s 354ms/step - loss: 0.2763 - accuracy: 0.8993 - val_loss: 0.5090 - val_accuracy: 0.8615\n",
      "Epoch 15/30\n",
      "128/127 [==============================] - 45s 355ms/step - loss: 0.2547 - accuracy: 0.9071 - val_loss: 0.5196 - val_accuracy: 0.8594\n",
      "Epoch 16/30\n",
      "128/127 [==============================] - 45s 353ms/step - loss: 0.2502 - accuracy: 0.9098 - val_loss: 0.5523 - val_accuracy: 0.8458\n",
      "Epoch 17/30\n",
      "128/127 [==============================] - 45s 352ms/step - loss: 0.2308 - accuracy: 0.9189 - val_loss: 0.5437 - val_accuracy: 0.8521\n",
      "Epoch 18/30\n",
      "128/127 [==============================] - 45s 355ms/step - loss: 0.2304 - accuracy: 0.9196 - val_loss: 0.6299 - val_accuracy: 0.8354\n",
      "Epoch 19/30\n",
      "128/127 [==============================] - 45s 355ms/step - loss: 0.2268 - accuracy: 0.9157 - val_loss: 0.4915 - val_accuracy: 0.8625\n",
      "Epoch 20/30\n",
      "128/127 [==============================] - 45s 351ms/step - loss: 0.2266 - accuracy: 0.9164 - val_loss: 0.5495 - val_accuracy: 0.8552\n",
      "Epoch 21/30\n",
      "128/127 [==============================] - 45s 353ms/step - loss: 0.2288 - accuracy: 0.9184 - val_loss: 0.5608 - val_accuracy: 0.8469\n",
      "Epoch 22/30\n",
      "128/127 [==============================] - 45s 355ms/step - loss: 0.2225 - accuracy: 0.9196 - val_loss: 0.5705 - val_accuracy: 0.8479\n",
      "Epoch 23/30\n",
      "128/127 [==============================] - 45s 353ms/step - loss: 0.2153 - accuracy: 0.9225 - val_loss: 0.5344 - val_accuracy: 0.8656\n",
      "Epoch 24/30\n",
      "128/127 [==============================] - 45s 354ms/step - loss: 0.2277 - accuracy: 0.9199 - val_loss: 0.6179 - val_accuracy: 0.8490\n",
      "Epoch 25/30\n",
      "128/127 [==============================] - 45s 353ms/step - loss: 0.1982 - accuracy: 0.9299 - val_loss: 0.5614 - val_accuracy: 0.8531\n",
      "Epoch 26/30\n",
      "128/127 [==============================] - 45s 355ms/step - loss: 0.2189 - accuracy: 0.9206 - val_loss: 0.6086 - val_accuracy: 0.8562\n",
      "Epoch 27/30\n",
      "128/127 [==============================] - 45s 353ms/step - loss: 0.1970 - accuracy: 0.9267 - val_loss: 0.5636 - val_accuracy: 0.8667\n",
      "Epoch 28/30\n",
      "128/127 [==============================] - 45s 355ms/step - loss: 0.1919 - accuracy: 0.9255 - val_loss: 0.5176 - val_accuracy: 0.8604\n",
      "Epoch 29/30\n",
      "128/127 [==============================] - 46s 357ms/step - loss: 0.1878 - accuracy: 0.9301 - val_loss: 0.5815 - val_accuracy: 0.8635\n",
      "Epoch 30/30\n",
      "128/127 [==============================] - 45s 354ms/step - loss: 0.2151 - accuracy: 0.9169 - val_loss: 0.5724 - val_accuracy: 0.8583\n"
     ]
    }
   ],
   "source": [
    "history = model.fit(train_it,\n",
    "                    validation_data=valid_it,\n",
    "                    steps_per_epoch=train_it.samples/train_it.batch_size,\n",
    "                    validation_steps=valid_it.samples/valid_it.batch_size,\n",
    "                    epochs=EPOCHS)"
   ]
  },
  {
   "attachments": {},
   "cell_type": "markdown",
   "metadata": {},
   "source": [
    "### Visualizing the Training History"
   ]
  },
  {
   "attachments": {},
   "cell_type": "markdown",
   "metadata": {},
   "source": [
    "We will use the matplotlib library to visualize the training history in graphical format."
   ]
  },
  {
   "cell_type": "code",
   "execution_count": 11,
   "metadata": {},
   "outputs": [
    {
     "data": {
      "image/png": "[encoded data removed]",
      "text/plain": [
       "<Figure size 432x288 with 1 Axes>"
      ]
     },
     "metadata": {},
     "output_type": "display_data"
    }
   ],
   "source": [
    "import numpy as np\n",
    "import matplotlib.pyplot as plt\n",
    "\n",
    "# plot the training loss and accuracy\n",
    "plt.style.use(\"ggplot\")\n",
    "plt.figure()\n",
    "N = EPOCHS\n",
    "plt.plot(np.arange(0, N), history.history[\"loss\"], label=\"train_loss\")\n",
    "plt.plot(np.arange(0, N), history.history[\"val_loss\"], label=\"val_loss\")\n",
    "plt.plot(np.arange(0, N), history.history[\"accuracy\"], label=\"train_acc\")\n",
    "plt.plot(np.arange(0, N), history.history[\"val_accuracy\"], label=\"val_acc\")\n",
    "plt.title(\"Training Loss and Accuracy\")\n",
    "plt.xlabel(\"Epoch #\")\n",
    "plt.ylabel(\"Loss/Accuracy\")\n",
    "plt.legend(loc=\"upper right\")\n",
    "plt.show()"
   ]
  },
  {
   "attachments": {},
   "cell_type": "markdown",
   "metadata": {},
   "source": [
    "## Unfreeze Model for Fine Tuning"
   ]
  },
  {
   "attachments": {},
   "cell_type": "markdown",
   "metadata": {},
   "source": [
    "Fine tuning the model with a very low learning rate."
   ]
  },
  {
   "cell_type": "code",
   "execution_count": 12,
   "metadata": {},
   "outputs": [],
   "source": [
    "INIT_LR = .00001\n",
    "EPOCHS = 10"
   ]
  },
  {
   "cell_type": "code",
   "execution_count": 13,
   "metadata": {},
   "outputs": [],
   "source": [
    "# Unfreeze the base model\n",
    "base_model.trainable = True\n",
    "\n",
    "# Compile the model with a low learning rate\n",
    "model.compile(optimizer=keras.optimizers.RMSprop(learning_rate = .00001),\n",
    "              loss = 'categorical_crossentropy' , metrics = ['accuracy'])"
   ]
  },
  {
   "cell_type": "code",
   "execution_count": 14,
   "metadata": {},
   "outputs": [
    {
     "name": "stdout",
     "output_type": "stream",
     "text": [
      "Epoch 1/10\n",
      "128/127 [==============================] - 72s 566ms/step - loss: 0.2851 - accuracy: 0.9044 - val_loss: 0.4595 - val_accuracy: 0.8677\n",
      "Epoch 2/10\n",
      "128/127 [==============================] - 62s 484ms/step - loss: 0.1759 - accuracy: 0.9336 - val_loss: 0.4899 - val_accuracy: 0.8615\n",
      "Epoch 3/10\n",
      "128/127 [==============================] - 61s 476ms/step - loss: 0.1302 - accuracy: 0.9549 - val_loss: 0.4579 - val_accuracy: 0.8896\n",
      "Epoch 4/10\n",
      "128/127 [==============================] - 61s 474ms/step - loss: 0.1107 - accuracy: 0.9620 - val_loss: 0.4895 - val_accuracy: 0.8729\n",
      "Epoch 5/10\n",
      "128/127 [==============================] - 61s 477ms/step - loss: 0.0819 - accuracy: 0.9699 - val_loss: 0.4361 - val_accuracy: 0.8969\n",
      "Epoch 6/10\n",
      "128/127 [==============================] - 61s 475ms/step - loss: 0.0677 - accuracy: 0.9782 - val_loss: 0.5242 - val_accuracy: 0.8927\n",
      "Epoch 7/10\n",
      "128/127 [==============================] - 60s 472ms/step - loss: 0.0618 - accuracy: 0.9779 - val_loss: 0.4230 - val_accuracy: 0.8958\n",
      "Epoch 8/10\n",
      "128/127 [==============================] - 60s 472ms/step - loss: 0.0486 - accuracy: 0.9838 - val_loss: 0.7515 - val_accuracy: 0.8604\n",
      "Epoch 9/10\n",
      "128/127 [==============================] - 60s 472ms/step - loss: 0.0385 - accuracy: 0.9865 - val_loss: 0.6302 - val_accuracy: 0.8917\n",
      "Epoch 10/10\n",
      "128/127 [==============================] - 60s 472ms/step - loss: 0.0382 - accuracy: 0.9890 - val_loss: 0.5866 - val_accuracy: 0.9000\n"
     ]
    }
   ],
   "source": [
    "history = model.fit(train_it,\n",
    "                    validation_data=valid_it,\n",
    "                    steps_per_epoch=train_it.samples/train_it.batch_size,\n",
    "                    validation_steps=valid_it.samples/valid_it.batch_size,\n",
    "                    epochs=EPOCHS)"
   ]
  },
  {
   "attachments": {},
   "cell_type": "markdown",
   "metadata": {},
   "source": [
    "## Evaluate the Model"
   ]
  },
  {
   "attachments": {},
   "cell_type": "markdown",
   "metadata": {},
   "source": [
    "Evaluate th model by executing the following cells. The evaluate function will return a tuple, where the first value is model loss, and the second value is model accuracy. So, we expect to have an accuracy value of `90% or higher`."
   ]
  },
  {
   "cell_type": "code",
   "execution_count": 15,
   "metadata": {},
   "outputs": [
    {
     "name": "stdout",
     "output_type": "stream",
     "text": [
      "30/30 [==============================] - 5s 152ms/step - loss: 0.6322 - accuracy: 0.8854\n"
     ]
    },
    {
     "data": {
      "text/plain": [
       "[0.6322140097618103, 0.8854166865348816]"
      ]
     },
     "execution_count": 15,
     "metadata": {},
     "output_type": "execute_result"
    }
   ],
   "source": [
    "model.evaluate(valid_it, steps=valid_it.samples/valid_it.batch_size)"
   ]
  },
  {
   "attachments": {},
   "cell_type": "markdown",
   "metadata": {},
   "source": [
    "## Saving the Model"
   ]
  },
  {
   "attachments": {},
   "cell_type": "markdown",
   "metadata": {},
   "source": [
    "Saving the model for the future use."
   ]
  },
  {
   "cell_type": "code",
   "execution_count": 16,
   "metadata": {},
   "outputs": [],
   "source": [
    "from datetime import datetime\n",
    "\n",
    "now = datetime.now()\n",
    "filename = now.strftime(\"%y%m%d\") + \"_har6.h5\"\n",
    "model.save(filename)"
   ]
  }
 ],
 "metadata": {
  "kernelspec": {
   "display_name": "Python 3",
   "language": "python",
   "name": "python3"
  },
  "language_info": {
   "codemirror_mode": {
    "name": "ipython",
    "version": 3
   },
   "file_extension": ".py",
   "mimetype": "text/x-python",
   "name": "python",
   "nbconvert_exporter": "python",
   "pygments_lexer": "ipython3",
   "version": "3.6.9"
  }
 },
 "nbformat": 4,
 "nbformat_minor": 4
}
